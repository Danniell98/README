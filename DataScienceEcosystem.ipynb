{
  "metadata": {
    "kernelspec": {
      "name": "python",
      "display_name": "Python (Pyodide)",
      "language": "python"
    },
    "language_info": {
      "codemirror_mode": {
        "name": "python",
        "version": 3
      },
      "file_extension": ".py",
      "mimetype": "text/x-python",
      "name": "python",
      "nbconvert_exporter": "python",
      "pygments_lexer": "ipython3",
      "version": "3.8"
    }
  },
  "nbformat_minor": 4,
  "nbformat": 4,
  "cells": [
    {
      "cell_type": "code",
      "source": "# # Data Science Tools and Ecosystem\n# ## In this notebook, Data Science Tools and Ecosystem are summarized\n# ## Data Science Languages\n# 1. Python\n# 2. R\n# 3. SQL\n\n# ## Data Science Libraries\n# 1. Pandas\n# 2. Numpy\n# 3. Matplotlib\n\n# ## Data Science Tools\n# | Tool | Description |\n# | --- | --- |\n# | Jupyter Notebook | Interactive computing environment |\n# | Pandas | Data manipulation and analysis |\n# | Numpy | Numerical computing |\n    \n# ## Arithmetic Expression Examples\n# Here are some examples of arithmetic expressions: `1+1`, `2*3`, `4/2`, `5-2`\n\n# # This a simple arithmetic expression to mutiply then add integers\n# Data=(3*4)+5\n# print(Data)\n\n# Conversion\nminutes = 200\n#This will convert 200 minutes to hours by diving by 60\nhours = minutes / 60\nprint(hours)\n\n**Objectives:**\n\n- List popular languages for Data Science\n- Apply basic data manipulation techniques\n- Create and manipulate data visualizations\n- Perform simple machine learning tasks\n- Understand basics of statistical inference\n\n## Author\n\nAmirul Danniel",
      "metadata": {
        "trusted": true
      },
      "outputs": [
        {
          "name": "stdout",
          "text": "3.3333333333333335\n",
          "output_type": "stream"
        }
      ],
      "execution_count": 5
    },
    {
      "cell_type": "code",
      "source": "",
      "metadata": {
        "trusted": true
      },
      "outputs": [],
      "execution_count": null
    }
  ]
}